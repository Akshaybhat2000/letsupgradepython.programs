{
 "cells": [
  {
   "cell_type": "code",
   "execution_count": 13,
   "metadata": {},
   "outputs": [
    {
     "name": "stdout",
     "output_type": "stream",
     "text": [
      "marks\n"
     ]
    }
   ],
   "source": [
    "#use if else and elif to write a program for your report card\n",
    "print(\"marks\")\n",
    "marks=98"
   ]
  },
  {
   "cell_type": "code",
   "execution_count": 14,
   "metadata": {},
   "outputs": [
    {
     "name": "stdout",
     "output_type": "stream",
     "text": [
      "grade A+\n"
     ]
    }
   ],
   "source": [
    "if marks>=90 and marks<=100:\n",
    "    print(\"grade A+\")\n",
    "elif marks>=80 and marks<=89:\n",
    "    print(\"grade A\")\n",
    "elif marks>=70 and marks<=79:\n",
    "    print(\"grade B+\")\n",
    "elif marks>=60 and marks<=69:\n",
    "    print(\"grade B\")\n",
    "elif marks>=50 and marks<=59:\n",
    "    print(\"grade c\")\n",
    "elif marks>=40 and marks<=49:\n",
    "    print(\"grade D\")\n",
    "else:\n",
    "    print(\"FAIL\")"
   ]
  },
  {
   "cell_type": "code",
   "execution_count": null,
   "metadata": {},
   "outputs": [],
   "source": []
  },
  {
   "cell_type": "markdown",
   "metadata": {},
   "source": []
  },
  {
   "cell_type": "code",
   "execution_count": null,
   "metadata": {},
   "outputs": [],
   "source": []
  }
 ],
 "metadata": {
  "kernelspec": {
   "display_name": "Python 3",
   "language": "python",
   "name": "python3"
  },
  "language_info": {
   "codemirror_mode": {
    "name": "ipython",
    "version": 3
   },
   "file_extension": ".py",
   "mimetype": "text/x-python",
   "name": "python",
   "nbconvert_exporter": "python",
   "pygments_lexer": "ipython3",
   "version": "3.8.5"
  }
 },
 "nbformat": 4,
 "nbformat_minor": 4
}
